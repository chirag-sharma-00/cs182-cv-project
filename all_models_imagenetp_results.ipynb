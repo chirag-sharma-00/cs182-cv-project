{
  "nbformat": 4,
  "nbformat_minor": 0,
  "metadata": {
    "accelerator": "GPU",
    "colab": {
      "name": "saved_model_tests.ipynb",
      "provenance": [],
      "collapsed_sections": [],
      "toc_visible": true,
      "include_colab_link": true
    },
    "kernelspec": {
      "display_name": "Python 3",
      "language": "python",
      "name": "python3"
    },
    "language_info": {
      "codemirror_mode": {
        "name": "ipython",
        "version": 3
      },
      "file_extension": ".py",
      "mimetype": "text/x-python",
      "name": "python",
      "nbconvert_exporter": "python",
      "pygments_lexer": "ipython3",
      "version": "3.8.3"
    },
    "widgets": {
      "application/vnd.jupyter.widget-state+json": {
        "6314f2c47ffd49ba8eeed3b9ceda0843": {
          "model_module": "@jupyter-widgets/controls",
          "model_name": "HBoxModel",
          "state": {
            "_view_name": "HBoxView",
            "_dom_classes": [],
            "_model_name": "HBoxModel",
            "_view_module": "@jupyter-widgets/controls",
            "_model_module_version": "1.5.0",
            "_view_count": null,
            "_view_module_version": "1.5.0",
            "box_style": "",
            "layout": "IPY_MODEL_8452b242a7794a5f87fba89e3d1e3923",
            "_model_module": "@jupyter-widgets/controls",
            "children": [
              "IPY_MODEL_df3281db02c0405b80b3802557bd8958",
              "IPY_MODEL_3f7ed57d87984c9981f46c29dec10051"
            ]
          }
        },
        "8452b242a7794a5f87fba89e3d1e3923": {
          "model_module": "@jupyter-widgets/base",
          "model_name": "LayoutModel",
          "state": {
            "_view_name": "LayoutView",
            "grid_template_rows": null,
            "right": null,
            "justify_content": null,
            "_view_module": "@jupyter-widgets/base",
            "overflow": null,
            "_model_module_version": "1.2.0",
            "_view_count": null,
            "flex_flow": null,
            "width": null,
            "min_width": null,
            "border": null,
            "align_items": null,
            "bottom": null,
            "_model_module": "@jupyter-widgets/base",
            "top": null,
            "grid_column": null,
            "overflow_y": null,
            "overflow_x": null,
            "grid_auto_flow": null,
            "grid_area": null,
            "grid_template_columns": null,
            "flex": null,
            "_model_name": "LayoutModel",
            "justify_items": null,
            "grid_row": null,
            "max_height": null,
            "align_content": null,
            "visibility": null,
            "align_self": null,
            "height": null,
            "min_height": null,
            "padding": null,
            "grid_auto_rows": null,
            "grid_gap": null,
            "max_width": null,
            "order": null,
            "_view_module_version": "1.2.0",
            "grid_template_areas": null,
            "object_position": null,
            "object_fit": null,
            "grid_auto_columns": null,
            "margin": null,
            "display": null,
            "left": null
          }
        },
        "df3281db02c0405b80b3802557bd8958": {
          "model_module": "@jupyter-widgets/controls",
          "model_name": "FloatProgressModel",
          "state": {
            "_view_name": "ProgressView",
            "style": "IPY_MODEL_21074a492a794426b6bfb7f89e48cbd8",
            "_dom_classes": [],
            "description": "100%",
            "_model_name": "FloatProgressModel",
            "bar_style": "success",
            "max": 108857766,
            "_view_module": "@jupyter-widgets/controls",
            "_model_module_version": "1.5.0",
            "value": 108857766,
            "_view_count": null,
            "_view_module_version": "1.5.0",
            "orientation": "horizontal",
            "min": 0,
            "description_tooltip": null,
            "_model_module": "@jupyter-widgets/controls",
            "layout": "IPY_MODEL_4883890f58f44ea48ec7f2df247aaffd"
          }
        },
        "3f7ed57d87984c9981f46c29dec10051": {
          "model_module": "@jupyter-widgets/controls",
          "model_name": "HTMLModel",
          "state": {
            "_view_name": "HTMLView",
            "style": "IPY_MODEL_84ef1ab58fcc4af6820b774f98e14ae9",
            "_dom_classes": [],
            "description": "",
            "_model_name": "HTMLModel",
            "placeholder": "​",
            "_view_module": "@jupyter-widgets/controls",
            "_model_module_version": "1.5.0",
            "value": " 104M/104M [00:01&lt;00:00, 58.7MB/s]",
            "_view_count": null,
            "_view_module_version": "1.5.0",
            "description_tooltip": null,
            "_model_module": "@jupyter-widgets/controls",
            "layout": "IPY_MODEL_d3511653d5fe4521994bcb439dcfefc2"
          }
        },
        "21074a492a794426b6bfb7f89e48cbd8": {
          "model_module": "@jupyter-widgets/controls",
          "model_name": "ProgressStyleModel",
          "state": {
            "_view_name": "StyleView",
            "_model_name": "ProgressStyleModel",
            "description_width": "initial",
            "_view_module": "@jupyter-widgets/base",
            "_model_module_version": "1.5.0",
            "_view_count": null,
            "_view_module_version": "1.2.0",
            "bar_color": null,
            "_model_module": "@jupyter-widgets/controls"
          }
        },
        "4883890f58f44ea48ec7f2df247aaffd": {
          "model_module": "@jupyter-widgets/base",
          "model_name": "LayoutModel",
          "state": {
            "_view_name": "LayoutView",
            "grid_template_rows": null,
            "right": null,
            "justify_content": null,
            "_view_module": "@jupyter-widgets/base",
            "overflow": null,
            "_model_module_version": "1.2.0",
            "_view_count": null,
            "flex_flow": null,
            "width": null,
            "min_width": null,
            "border": null,
            "align_items": null,
            "bottom": null,
            "_model_module": "@jupyter-widgets/base",
            "top": null,
            "grid_column": null,
            "overflow_y": null,
            "overflow_x": null,
            "grid_auto_flow": null,
            "grid_area": null,
            "grid_template_columns": null,
            "flex": null,
            "_model_name": "LayoutModel",
            "justify_items": null,
            "grid_row": null,
            "max_height": null,
            "align_content": null,
            "visibility": null,
            "align_self": null,
            "height": null,
            "min_height": null,
            "padding": null,
            "grid_auto_rows": null,
            "grid_gap": null,
            "max_width": null,
            "order": null,
            "_view_module_version": "1.2.0",
            "grid_template_areas": null,
            "object_position": null,
            "object_fit": null,
            "grid_auto_columns": null,
            "margin": null,
            "display": null,
            "left": null
          }
        },
        "84ef1ab58fcc4af6820b774f98e14ae9": {
          "model_module": "@jupyter-widgets/controls",
          "model_name": "DescriptionStyleModel",
          "state": {
            "_view_name": "StyleView",
            "_model_name": "DescriptionStyleModel",
            "description_width": "",
            "_view_module": "@jupyter-widgets/base",
            "_model_module_version": "1.5.0",
            "_view_count": null,
            "_view_module_version": "1.2.0",
            "_model_module": "@jupyter-widgets/controls"
          }
        },
        "d3511653d5fe4521994bcb439dcfefc2": {
          "model_module": "@jupyter-widgets/base",
          "model_name": "LayoutModel",
          "state": {
            "_view_name": "LayoutView",
            "grid_template_rows": null,
            "right": null,
            "justify_content": null,
            "_view_module": "@jupyter-widgets/base",
            "overflow": null,
            "_model_module_version": "1.2.0",
            "_view_count": null,
            "flex_flow": null,
            "width": null,
            "min_width": null,
            "border": null,
            "align_items": null,
            "bottom": null,
            "_model_module": "@jupyter-widgets/base",
            "top": null,
            "grid_column": null,
            "overflow_y": null,
            "overflow_x": null,
            "grid_auto_flow": null,
            "grid_area": null,
            "grid_template_columns": null,
            "flex": null,
            "_model_name": "LayoutModel",
            "justify_items": null,
            "grid_row": null,
            "max_height": null,
            "align_content": null,
            "visibility": null,
            "align_self": null,
            "height": null,
            "min_height": null,
            "padding": null,
            "grid_auto_rows": null,
            "grid_gap": null,
            "max_width": null,
            "order": null,
            "_view_module_version": "1.2.0",
            "grid_template_areas": null,
            "object_position": null,
            "object_fit": null,
            "grid_auto_columns": null,
            "margin": null,
            "display": null,
            "left": null
          }
        },
        "d25fa64f5234453f981ff49db6178eae": {
          "model_module": "@jupyter-widgets/controls",
          "model_name": "HBoxModel",
          "state": {
            "_view_name": "HBoxView",
            "_dom_classes": [],
            "_model_name": "HBoxModel",
            "_view_module": "@jupyter-widgets/controls",
            "_model_module_version": "1.5.0",
            "_view_count": null,
            "_view_module_version": "1.5.0",
            "box_style": "",
            "layout": "IPY_MODEL_fe9cbcc8375f45af92ce9da797ae9796",
            "_model_module": "@jupyter-widgets/controls",
            "children": [
              "IPY_MODEL_8cd847bd442e4bc28062c5a170d27a14",
              "IPY_MODEL_0cea9a57d3c24a2099f6ef011bf8c785"
            ]
          }
        },
        "fe9cbcc8375f45af92ce9da797ae9796": {
          "model_module": "@jupyter-widgets/base",
          "model_name": "LayoutModel",
          "state": {
            "_view_name": "LayoutView",
            "grid_template_rows": null,
            "right": null,
            "justify_content": null,
            "_view_module": "@jupyter-widgets/base",
            "overflow": null,
            "_model_module_version": "1.2.0",
            "_view_count": null,
            "flex_flow": null,
            "width": null,
            "min_width": null,
            "border": null,
            "align_items": null,
            "bottom": null,
            "_model_module": "@jupyter-widgets/base",
            "top": null,
            "grid_column": null,
            "overflow_y": null,
            "overflow_x": null,
            "grid_auto_flow": null,
            "grid_area": null,
            "grid_template_columns": null,
            "flex": null,
            "_model_name": "LayoutModel",
            "justify_items": null,
            "grid_row": null,
            "max_height": null,
            "align_content": null,
            "visibility": null,
            "align_self": null,
            "height": null,
            "min_height": null,
            "padding": null,
            "grid_auto_rows": null,
            "grid_gap": null,
            "max_width": null,
            "order": null,
            "_view_module_version": "1.2.0",
            "grid_template_areas": null,
            "object_position": null,
            "object_fit": null,
            "grid_auto_columns": null,
            "margin": null,
            "display": null,
            "left": null
          }
        },
        "8cd847bd442e4bc28062c5a170d27a14": {
          "model_module": "@jupyter-widgets/controls",
          "model_name": "FloatProgressModel",
          "state": {
            "_view_name": "ProgressView",
            "style": "IPY_MODEL_28e0997bbdc946ae94da542a76dbe7b4",
            "_dom_classes": [],
            "description": "100%",
            "_model_name": "FloatProgressModel",
            "bar_style": "success",
            "max": 102502400,
            "_view_module": "@jupyter-widgets/controls",
            "_model_module_version": "1.5.0",
            "value": 102502400,
            "_view_count": null,
            "_view_module_version": "1.5.0",
            "orientation": "horizontal",
            "min": 0,
            "description_tooltip": null,
            "_model_module": "@jupyter-widgets/controls",
            "layout": "IPY_MODEL_47d1a485d27f4c709d9e9dd01611ac23"
          }
        },
        "0cea9a57d3c24a2099f6ef011bf8c785": {
          "model_module": "@jupyter-widgets/controls",
          "model_name": "HTMLModel",
          "state": {
            "_view_name": "HTMLView",
            "style": "IPY_MODEL_b0f1961b941c4f01b78bad2a5127d5df",
            "_dom_classes": [],
            "description": "",
            "_model_name": "HTMLModel",
            "placeholder": "​",
            "_view_module": "@jupyter-widgets/controls",
            "_model_module_version": "1.5.0",
            "value": " 97.8M/97.8M [00:01&lt;00:00, 88.9MB/s]",
            "_view_count": null,
            "_view_module_version": "1.5.0",
            "description_tooltip": null,
            "_model_module": "@jupyter-widgets/controls",
            "layout": "IPY_MODEL_55db825293504e5692ab87563419a3de"
          }
        },
        "28e0997bbdc946ae94da542a76dbe7b4": {
          "model_module": "@jupyter-widgets/controls",
          "model_name": "ProgressStyleModel",
          "state": {
            "_view_name": "StyleView",
            "_model_name": "ProgressStyleModel",
            "description_width": "initial",
            "_view_module": "@jupyter-widgets/base",
            "_model_module_version": "1.5.0",
            "_view_count": null,
            "_view_module_version": "1.2.0",
            "bar_color": null,
            "_model_module": "@jupyter-widgets/controls"
          }
        },
        "47d1a485d27f4c709d9e9dd01611ac23": {
          "model_module": "@jupyter-widgets/base",
          "model_name": "LayoutModel",
          "state": {
            "_view_name": "LayoutView",
            "grid_template_rows": null,
            "right": null,
            "justify_content": null,
            "_view_module": "@jupyter-widgets/base",
            "overflow": null,
            "_model_module_version": "1.2.0",
            "_view_count": null,
            "flex_flow": null,
            "width": null,
            "min_width": null,
            "border": null,
            "align_items": null,
            "bottom": null,
            "_model_module": "@jupyter-widgets/base",
            "top": null,
            "grid_column": null,
            "overflow_y": null,
            "overflow_x": null,
            "grid_auto_flow": null,
            "grid_area": null,
            "grid_template_columns": null,
            "flex": null,
            "_model_name": "LayoutModel",
            "justify_items": null,
            "grid_row": null,
            "max_height": null,
            "align_content": null,
            "visibility": null,
            "align_self": null,
            "height": null,
            "min_height": null,
            "padding": null,
            "grid_auto_rows": null,
            "grid_gap": null,
            "max_width": null,
            "order": null,
            "_view_module_version": "1.2.0",
            "grid_template_areas": null,
            "object_position": null,
            "object_fit": null,
            "grid_auto_columns": null,
            "margin": null,
            "display": null,
            "left": null
          }
        },
        "b0f1961b941c4f01b78bad2a5127d5df": {
          "model_module": "@jupyter-widgets/controls",
          "model_name": "DescriptionStyleModel",
          "state": {
            "_view_name": "StyleView",
            "_model_name": "DescriptionStyleModel",
            "description_width": "",
            "_view_module": "@jupyter-widgets/base",
            "_model_module_version": "1.5.0",
            "_view_count": null,
            "_view_module_version": "1.2.0",
            "_model_module": "@jupyter-widgets/controls"
          }
        },
        "55db825293504e5692ab87563419a3de": {
          "model_module": "@jupyter-widgets/base",
          "model_name": "LayoutModel",
          "state": {
            "_view_name": "LayoutView",
            "grid_template_rows": null,
            "right": null,
            "justify_content": null,
            "_view_module": "@jupyter-widgets/base",
            "overflow": null,
            "_model_module_version": "1.2.0",
            "_view_count": null,
            "flex_flow": null,
            "width": null,
            "min_width": null,
            "border": null,
            "align_items": null,
            "bottom": null,
            "_model_module": "@jupyter-widgets/base",
            "top": null,
            "grid_column": null,
            "overflow_y": null,
            "overflow_x": null,
            "grid_auto_flow": null,
            "grid_area": null,
            "grid_template_columns": null,
            "flex": null,
            "_model_name": "LayoutModel",
            "justify_items": null,
            "grid_row": null,
            "max_height": null,
            "align_content": null,
            "visibility": null,
            "align_self": null,
            "height": null,
            "min_height": null,
            "padding": null,
            "grid_auto_rows": null,
            "grid_gap": null,
            "max_width": null,
            "order": null,
            "_view_module_version": "1.2.0",
            "grid_template_areas": null,
            "object_position": null,
            "object_fit": null,
            "grid_auto_columns": null,
            "margin": null,
            "display": null,
            "left": null
          }
        }
      }
    }
  },
  "cells": [
    {
      "cell_type": "markdown",
      "metadata": {
        "id": "view-in-github",
        "colab_type": "text"
      },
      "source": [
        "<a href=\"https://colab.research.google.com/github/chirag-sharma-00/cs182-cv-project/blob/main/all_models_imagenetp_results.ipynb\" target=\"_parent\"><img src=\"https://colab.research.google.com/assets/colab-badge.svg\" alt=\"Open In Colab\"/></a>"
      ]
    },
    {
      "cell_type": "code",
      "metadata": {
        "id": "4VOqVl7R0Kuk"
      },
      "source": [
        "import numpy as np\n",
        "import torch\n",
        "import torch.nn as nn\n",
        "import torch.optim as optim\n",
        "import torchvision\n",
        "import matplotlib.pyplot as plt\n",
        "import pandas as pd\n",
        "import glob\n",
        "import pathlib\n",
        "import tqdm\n",
        "import os\n",
        "import time\n",
        "import copy\n",
        "from __future__ import print_function\n",
        "from __future__ import division\n",
        "from torchvision import datasets, models, transforms\n",
        "from torch.utils.data import Dataset\n",
        "from PIL import Image\n",
        "from google.colab import drive\n",
        "import shutil"
      ],
      "execution_count": 1,
      "outputs": []
    },
    {
      "cell_type": "code",
      "metadata": {
        "id": "oxdDCtGN0Xdd"
      },
      "source": [
        "!rm -rf sample_data"
      ],
      "execution_count": 2,
      "outputs": []
    },
    {
      "cell_type": "code",
      "metadata": {
        "id": "rRAgVbINvYul"
      },
      "source": [
        "device = torch.device(\"cuda:0\" if torch.cuda.is_available() else \"cpu\")"
      ],
      "execution_count": 3,
      "outputs": []
    },
    {
      "cell_type": "code",
      "metadata": {
        "colab": {
          "base_uri": "https://localhost:8080/"
        },
        "id": "0ehVR2p-0Zrp",
        "outputId": "c3aca67f-50da-4439-d8af-663462e55e42"
      },
      "source": [
        "drive.mount('/content/drive', force_remount=True)"
      ],
      "execution_count": 5,
      "outputs": [
        {
          "output_type": "stream",
          "text": [
            "Mounted at /content/drive\n"
          ],
          "name": "stdout"
        }
      ]
    },
    {
      "cell_type": "markdown",
      "metadata": {
        "id": "dbFPWkFHuvPH"
      },
      "source": [
        "## Load Datasets"
      ]
    },
    {
      "cell_type": "code",
      "metadata": {
        "id": "xcTDZQJToZ0g"
      },
      "source": [
        "!unzip drive/MyDrive/182-cv-project/data/tiny-imagenet-200.zip\n",
        "!tar -xvf drive/MyDrive/182-cv-project/data/tiny-imagenet-c.tar\n",
        "!unzip drive/MyDrive/182-cv-project/data/imagenet-a.zip\n",
        "!unzip drive/MyDrive/182-cv-project/data/imagenet-o.zip\n",
        "# !tar -xvf drive/MyDrive/182-cv-project/data/imagenet-p_validation.tar"
      ],
      "execution_count": null,
      "outputs": []
    },
    {
      "cell_type": "code",
      "metadata": {
        "id": "kK0kvjnaqyh1"
      },
      "source": [
        "data_dir = pathlib.Path(\"tiny-imagenet-200\")\n",
        "imagenet_a_path = pathlib.Path('imagenet-a')\n",
        "imagenet_o_path = pathlib.Path('imagenet-o')\n",
        "tiny_imagenet_c_path = pathlib.Path('Tiny-ImageNet-C')\n",
        "# imagenet_p_paths= [\"shear\", \"spatter\", \"speckle_noise\"]"
      ],
      "execution_count": 6,
      "outputs": []
    },
    {
      "cell_type": "code",
      "metadata": {
        "colab": {
          "base_uri": "https://localhost:8080/"
        },
        "id": "BSt6noAM0Kup",
        "outputId": "caedf666-9a63-4e9b-a947-21b758325c5b"
      },
      "source": [
        "#image_count = len(list(data_dir.glob('**/*.JPEG')))\n",
        "!rm tiny-imagenet-200/.DS_Store\n",
        "!rm tiny-imagenet-200/train/.DS_Store\n",
        "!rm tiny-imagenet-200/val/.DS_Store\n",
        "!rm tiny-imagenet-200/test/.DS_Store"
      ],
      "execution_count": 7,
      "outputs": [
        {
          "output_type": "stream",
          "text": [
            "rm: cannot remove 'tiny-imagenet-200/.DS_Store': No such file or directory\n",
            "rm: cannot remove 'tiny-imagenet-200/train/.DS_Store': No such file or directory\n",
            "rm: cannot remove 'tiny-imagenet-200/val/.DS_Store': No such file or directory\n",
            "rm: cannot remove 'tiny-imagenet-200/test/.DS_Store': No such file or directory\n"
          ],
          "name": "stdout"
        }
      ]
    },
    {
      "cell_type": "code",
      "metadata": {
        "id": "WBLZ5xnC0Kun"
      },
      "source": [
        "images = pd.read_csv(\"tiny-imagenet-200/words.txt\", names = ['Id', 'labels'], sep = '\\t')"
      ],
      "execution_count": 8,
      "outputs": []
    },
    {
      "cell_type": "code",
      "metadata": {
        "colab": {
          "base_uri": "https://localhost:8080/"
        },
        "id": "CLuV3ve10Kup",
        "outputId": "20522eef-d6e5-4719-ec47-a032a2fae719"
      },
      "source": [
        "CLASS_NAMES = np.array([item.name for item in (data_dir / 'train').glob('*')])\n",
        "CLASS_NAMES.sort()\n",
        "num_classes = len(CLASS_NAMES)\n",
        "print(len(CLASS_NAMES)) #should be 200\n",
        "sum([cls in images['Id'].unique() for cls in CLASS_NAMES])"
      ],
      "execution_count": 9,
      "outputs": [
        {
          "output_type": "stream",
          "text": [
            "200\n"
          ],
          "name": "stdout"
        },
        {
          "output_type": "execute_result",
          "data": {
            "text/plain": [
              "200"
            ]
          },
          "metadata": {
            "tags": []
          },
          "execution_count": 9
        }
      ]
    },
    {
      "cell_type": "markdown",
      "metadata": {
        "id": "q8j-BDQPnc4E"
      },
      "source": [
        "###Create new Validation Set using speckle/salt-pepper noise"
      ]
    },
    {
      "cell_type": "code",
      "metadata": {
        "id": "3Y-s2a81og3T"
      },
      "source": [
        "def noisy(noise_typ,image):\n",
        "   if noise_typ == \"poisson\":\n",
        "      vals = len(np.unique(image))\n",
        "      vals = 2 ** np.ceil(np.log2(vals))\n",
        "      noisy = np.random.poisson(image * vals) / float(vals)\n",
        "      return noisy.astype('uint8')\n",
        "   elif noise_typ ==\"speckle\":\n",
        "      row,col,ch = image.shape\n",
        "      gauss = np.random.randn(row,col,ch)\n",
        "      gauss = gauss.reshape(row,col,ch)        \n",
        "      noisy = image + image * gauss\n",
        "      return noisy.astype('uint8')\n",
        "   elif noise_typ == \"s&p\":\n",
        "      row,col,ch = image.shape\n",
        "      s_vs_p = 0.5\n",
        "      amount = 0.004\n",
        "      out = np.copy(image)\n",
        "      # Salt mode\n",
        "      num_salt = np.ceil(amount * image.size * s_vs_p)\n",
        "      coords = [np.random.randint(0, i - 1, int(num_salt))\n",
        "              for i in image.shape]\n",
        "      out[coords] = 1\n",
        "\n",
        "      # Pepper mode\n",
        "      num_pepper = np.ceil(amount* image.size * (1. - s_vs_p))\n",
        "      coords = [np.random.randint(0, i - 1, int(num_pepper))\n",
        "              for i in image.shape]\n",
        "      out[coords] = 0\n",
        "      return out.astype('uint8')\n",
        "\n",
        "def augmented_data(img):\n",
        "    #input is an image path\n",
        "    #returns list of images with following noise types applied: \n",
        "    #gauss, salt and pepper, poisson, speckle\n",
        "\n",
        "    img = Image.open(img).convert('RGB')\n",
        "    img = np.array(img)\n",
        "    augmented = []\n",
        "\n",
        "    noise_types = [\"s&p\", \"poisson\", \"speckle\"]\n",
        "    for noise_type in noise_types: \n",
        "      ret_val = noisy(noise_type, img)\n",
        "      \n",
        "      augmented.append(ret_val)\n",
        "\n",
        "    return augmented"
      ],
      "execution_count": 46,
      "outputs": []
    },
    {
      "cell_type": "code",
      "metadata": {
        "colab": {
          "base_uri": "https://localhost:8080/"
        },
        "id": "DxNgEGCNnlNe",
        "outputId": "52885fb0-c37a-47cd-aa66-6e515de54733"
      },
      "source": [
        "# os.rmdir(\"speckle_augmented_val\")\n",
        "# os.mkdir(\"speckle_augmented_val\")\n",
        "\n",
        "prev_annotations = pd.read_csv(\"tiny-imagenet-200/val/val_annotations.txt\", \n",
        "                              sep='\\t', names=[\"Filename\", \"Class\", \"BB1\", \n",
        "                                               \"BB2\", \"BB3\", \"BB4\"])\n",
        "prev_annotations.drop([\"BB1\", \"BB2\", \"BB3\", \"BB4\"], axis=1, inplace=True)\n",
        "new_annotations = pd.DataFrame(columns=[\"Filename\", \"Class\"])\n",
        "\n",
        "for img_file in os.listdir(\"tiny-imagenet-200/val/images\"):\n",
        "  path = \"tiny-imagenet-200/val/images\" + \"/\" + img_file\n",
        "  augmented_imgs = augmented_data(path)\n",
        "  for i, a in enumerate(augmented_imgs):\n",
        "    im = Image.fromarray(a)\n",
        "    prefix = img_file.split(\".\")[0]\n",
        "    im.save(\"speckle_augmented_val/\" + prefix + \"_\" + str(i) + \n",
        "            \".JPEG\")\n",
        "    new_annotations = new_annotations.append({\"Filename\" : prefix + \"_\" + str(i) + \".JPEG\", \n",
        "                            \"Class\" : prev_annotations.loc[\n",
        "                              prev_annotations[\"Filename\"] == prefix + \".JPEG\",\n",
        "                              \"Class\"\n",
        "                            ].item()}, ignore_index=True)\n",
        "new_annotations.to_csv(\"speckle_augmented_val/augmented_val_annotations.txt\", \n",
        "                       sep='\\t', index=False, header=False)"
      ],
      "execution_count": 48,
      "outputs": [
        {
          "output_type": "stream",
          "text": [
            "/usr/local/lib/python3.7/dist-packages/ipykernel_launcher.py:22: FutureWarning: Using a non-tuple sequence for multidimensional indexing is deprecated; use `arr[tuple(seq)]` instead of `arr[seq]`. In the future this will be interpreted as an array index, `arr[np.array(seq)]`, which will result either in an error or a different result.\n",
            "/usr/local/lib/python3.7/dist-packages/ipykernel_launcher.py:28: FutureWarning: Using a non-tuple sequence for multidimensional indexing is deprecated; use `arr[tuple(seq)]` instead of `arr[seq]`. In the future this will be interpreted as an array index, `arr[np.array(seq)]`, which will result either in an error or a different result.\n"
          ],
          "name": "stderr"
        }
      ]
    },
    {
      "cell_type": "code",
      "metadata": {
        "id": "-2A2P01Azklj"
      },
      "source": [
        "!zip -r speckle_augmented_val.zip speckle_augmented_val/ "
      ],
      "execution_count": null,
      "outputs": []
    },
    {
      "cell_type": "code",
      "metadata": {
        "id": "KtI3lj041NlG"
      },
      "source": [
        "new_annotations.to_csv(\"speckle_val_annotations.txt\", \n",
        "                       sep='\\t', index=False, header=False)"
      ],
      "execution_count": 54,
      "outputs": []
    },
    {
      "cell_type": "code",
      "metadata": {
        "id": "_vmRnQzIrewW"
      },
      "source": [
        "\n",
        "for item in imagenet_a_path.iterdir():\n",
        "  if item.is_dir() and not item.name in CLASS_NAMES:\n",
        "    shutil.rmtree(item)\n",
        "for item in imagenet_o_path.iterdir():\n",
        "  if item.is_dir() and not item.name in CLASS_NAMES:\n",
        "    shutil.rmtree(item)\n",
        "for name in CLASS_NAMES:\n",
        "  if not pathlib.Path(os.path.join(imagenet_a_path, name)).is_dir():\n",
        "    os.mkdir(os.path.join(imagenet_a_path, name))\n",
        "  if not pathlib.Path(os.path.join(imagenet_o_path, name)).is_dir():\n",
        "    os.mkdir(os.path.join(imagenet_o_path, name))"
      ],
      "execution_count": 49,
      "outputs": []
    },
    {
      "cell_type": "markdown",
      "metadata": {
        "id": "o6vBEHw-u_SG"
      },
      "source": [
        "## Prediction Function"
      ]
    },
    {
      "cell_type": "code",
      "metadata": {
        "id": "WB1g-Zwt0Kuz"
      },
      "source": [
        "def predict(dataloaders, model): \n",
        "    \"\"\"\n",
        "    Run a forward pass (without caching data) for given model and return accuracy\n",
        "    \"\"\"\n",
        "    if torch.cuda.is_available():\n",
        "      model = model.cuda()\n",
        "\n",
        "    accuracies = []\n",
        "    model.eval()\n",
        "    \n",
        "    for phase in dataloaders.keys(): \n",
        "        counter = 0\n",
        "        running_corrects = 0\n",
        "        running_total = 0\n",
        "\n",
        "        for inputs, labels in dataloaders[phase]: \n",
        "            inputs = inputs.to(device)\n",
        "            labels.data = labels.data.to(device)\n",
        "            outputs = model(inputs)\n",
        "            _, preds = torch.max(outputs, 1)\n",
        "            counter += 1\n",
        "            \n",
        "            running_corrects += torch.sum(preds == labels.data)\n",
        "            running_total += len(preds)\n",
        "            \n",
        "        phase_acc = running_corrects / running_total\n",
        "        accuracies.append(phase_acc)\n",
        "\n",
        "    return accuracies\n",
        "            "
      ],
      "execution_count": 12,
      "outputs": []
    },
    {
      "cell_type": "markdown",
      "metadata": {
        "id": "6OXXBOpW0Kuq"
      },
      "source": [
        "## Dataloaders"
      ]
    },
    {
      "cell_type": "code",
      "metadata": {
        "id": "1jiJkeiPwX9q"
      },
      "source": [
        "input_size = 299\n",
        "batch_size = 32"
      ],
      "execution_count": 14,
      "outputs": []
    },
    {
      "cell_type": "code",
      "metadata": {
        "id": "xf1aHU6kvgov"
      },
      "source": [
        "data_transform = transforms.Compose([\n",
        "        transforms.Resize((input_size, input_size)),\n",
        "        transforms.ToTensor(),\n",
        "        transforms.Normalize([0.485, 0.456, 0.406], [0.229, 0.224, 0.225])\n",
        "    ])"
      ],
      "execution_count": 15,
      "outputs": []
    },
    {
      "cell_type": "code",
      "metadata": {
        "id": "pl5P3w3dv1Yb",
        "colab": {
          "base_uri": "https://localhost:8080/",
          "height": 415
        },
        "outputId": "caec2eec-828c-41f4-d11b-f88485cf25ae"
      },
      "source": [
        "image_datasets = {\n",
        "    'imagenet-a': datasets.ImageFolder(imagenet_a_path, data_transform),\n",
        "    'imagenet-o': datasets.ImageFolder(imagenet_o_path, data_transform),\n",
        "}\n",
        "for dir in tiny_imagenet_c_path.iterdir():\n",
        "  image_datasets[\"imagenet-c-\"+dir.name+\"-2\"] = datasets.ImageFolder(os.path.join(dir, \"2\"), data_transform)\n",
        "# Create training and validation dataloaders\n",
        "\n",
        "for dir in imagenet_p_paths: \n",
        "  path = pathlib.Path(dir)\n",
        "  image_datasets[\"imagenet-p\"+\"-\"+dir] = datasets.ImageFolder(path, data_transform)\n",
        "\n",
        "dataloaders_dict = {x: torch.utils.data.DataLoader(image_datasets[x], \n",
        "                                                   batch_size=batch_size, \n",
        "                                                   shuffle=True, num_workers=2) \n",
        "                                                   for x in image_datasets.keys()}"
      ],
      "execution_count": 17,
      "outputs": [
        {
          "output_type": "error",
          "ename": "RuntimeError",
          "evalue": "ignored",
          "traceback": [
            "\u001b[0;31m---------------------------------------------------------------------------\u001b[0m",
            "\u001b[0;31mRuntimeError\u001b[0m                              Traceback (most recent call last)",
            "\u001b[0;32m<ipython-input-17-0343fbd38058>\u001b[0m in \u001b[0;36m<module>\u001b[0;34m()\u001b[0m\n\u001b[1;32m      9\u001b[0m \u001b[0;32mfor\u001b[0m \u001b[0mdir\u001b[0m \u001b[0;32min\u001b[0m \u001b[0mimagenet_p_paths\u001b[0m\u001b[0;34m:\u001b[0m\u001b[0;34m\u001b[0m\u001b[0;34m\u001b[0m\u001b[0m\n\u001b[1;32m     10\u001b[0m   \u001b[0mpath\u001b[0m \u001b[0;34m=\u001b[0m \u001b[0mpathlib\u001b[0m\u001b[0;34m.\u001b[0m\u001b[0mPath\u001b[0m\u001b[0;34m(\u001b[0m\u001b[0mdir\u001b[0m\u001b[0;34m)\u001b[0m\u001b[0;34m\u001b[0m\u001b[0;34m\u001b[0m\u001b[0m\n\u001b[0;32m---> 11\u001b[0;31m   \u001b[0mimage_datasets\u001b[0m\u001b[0;34m[\u001b[0m\u001b[0;34m\"imagenet-p\"\u001b[0m\u001b[0;34m+\u001b[0m\u001b[0;34m\"-\"\u001b[0m\u001b[0;34m+\u001b[0m\u001b[0mdir\u001b[0m\u001b[0;34m]\u001b[0m \u001b[0;34m=\u001b[0m \u001b[0mdatasets\u001b[0m\u001b[0;34m.\u001b[0m\u001b[0mImageFolder\u001b[0m\u001b[0;34m(\u001b[0m\u001b[0mpath\u001b[0m\u001b[0;34m,\u001b[0m \u001b[0mdata_transform\u001b[0m\u001b[0;34m)\u001b[0m\u001b[0;34m\u001b[0m\u001b[0;34m\u001b[0m\u001b[0m\n\u001b[0m\u001b[1;32m     12\u001b[0m \u001b[0;34m\u001b[0m\u001b[0m\n\u001b[1;32m     13\u001b[0m dataloaders_dict = {x: torch.utils.data.DataLoader(image_datasets[x], \n",
            "\u001b[0;32m/usr/local/lib/python3.7/dist-packages/torchvision/datasets/folder.py\u001b[0m in \u001b[0;36m__init__\u001b[0;34m(self, root, transform, target_transform, loader, is_valid_file)\u001b[0m\n\u001b[1;32m    254\u001b[0m                                           \u001b[0mtransform\u001b[0m\u001b[0;34m=\u001b[0m\u001b[0mtransform\u001b[0m\u001b[0;34m,\u001b[0m\u001b[0;34m\u001b[0m\u001b[0;34m\u001b[0m\u001b[0m\n\u001b[1;32m    255\u001b[0m                                           \u001b[0mtarget_transform\u001b[0m\u001b[0;34m=\u001b[0m\u001b[0mtarget_transform\u001b[0m\u001b[0;34m,\u001b[0m\u001b[0;34m\u001b[0m\u001b[0;34m\u001b[0m\u001b[0m\n\u001b[0;32m--> 256\u001b[0;31m                                           is_valid_file=is_valid_file)\n\u001b[0m\u001b[1;32m    257\u001b[0m         \u001b[0mself\u001b[0m\u001b[0;34m.\u001b[0m\u001b[0mimgs\u001b[0m \u001b[0;34m=\u001b[0m \u001b[0mself\u001b[0m\u001b[0;34m.\u001b[0m\u001b[0msamples\u001b[0m\u001b[0;34m\u001b[0m\u001b[0;34m\u001b[0m\u001b[0m\n",
            "\u001b[0;32m/usr/local/lib/python3.7/dist-packages/torchvision/datasets/folder.py\u001b[0m in \u001b[0;36m__init__\u001b[0;34m(self, root, loader, extensions, transform, target_transform, is_valid_file)\u001b[0m\n\u001b[1;32m    130\u001b[0m             \u001b[0;32mif\u001b[0m \u001b[0mextensions\u001b[0m \u001b[0;32mis\u001b[0m \u001b[0;32mnot\u001b[0m \u001b[0;32mNone\u001b[0m\u001b[0;34m:\u001b[0m\u001b[0;34m\u001b[0m\u001b[0;34m\u001b[0m\u001b[0m\n\u001b[1;32m    131\u001b[0m                 \u001b[0mmsg\u001b[0m \u001b[0;34m+=\u001b[0m \u001b[0;34m\"Supported extensions are: {}\"\u001b[0m\u001b[0;34m.\u001b[0m\u001b[0mformat\u001b[0m\u001b[0;34m(\u001b[0m\u001b[0;34m\",\"\u001b[0m\u001b[0;34m.\u001b[0m\u001b[0mjoin\u001b[0m\u001b[0;34m(\u001b[0m\u001b[0mextensions\u001b[0m\u001b[0;34m)\u001b[0m\u001b[0;34m)\u001b[0m\u001b[0;34m\u001b[0m\u001b[0;34m\u001b[0m\u001b[0m\n\u001b[0;32m--> 132\u001b[0;31m             \u001b[0;32mraise\u001b[0m \u001b[0mRuntimeError\u001b[0m\u001b[0;34m(\u001b[0m\u001b[0mmsg\u001b[0m\u001b[0;34m)\u001b[0m\u001b[0;34m\u001b[0m\u001b[0;34m\u001b[0m\u001b[0m\n\u001b[0m\u001b[1;32m    133\u001b[0m \u001b[0;34m\u001b[0m\u001b[0m\n\u001b[1;32m    134\u001b[0m         \u001b[0mself\u001b[0m\u001b[0;34m.\u001b[0m\u001b[0mloader\u001b[0m \u001b[0;34m=\u001b[0m \u001b[0mloader\u001b[0m\u001b[0;34m\u001b[0m\u001b[0;34m\u001b[0m\u001b[0m\n",
            "\u001b[0;31mRuntimeError\u001b[0m: Found 0 files in subfolders of: shear\nSupported extensions are: .jpg,.jpeg,.png,.ppm,.bmp,.pgm,.tif,.tiff,.webp"
          ]
        }
      ]
    },
    {
      "cell_type": "markdown",
      "metadata": {
        "id": "bbXwa2pjwfPj"
      },
      "source": [
        "## Test All Models"
      ]
    },
    {
      "cell_type": "code",
      "metadata": {
        "colab": {
          "base_uri": "https://localhost:8080/",
          "height": 203,
          "referenced_widgets": [
            "6314f2c47ffd49ba8eeed3b9ceda0843",
            "8452b242a7794a5f87fba89e3d1e3923",
            "df3281db02c0405b80b3802557bd8958",
            "3f7ed57d87984c9981f46c29dec10051",
            "21074a492a794426b6bfb7f89e48cbd8",
            "4883890f58f44ea48ec7f2df247aaffd",
            "84ef1ab58fcc4af6820b774f98e14ae9",
            "d3511653d5fe4521994bcb439dcfefc2",
            "d25fa64f5234453f981ff49db6178eae",
            "fe9cbcc8375f45af92ce9da797ae9796",
            "8cd847bd442e4bc28062c5a170d27a14",
            "0cea9a57d3c24a2099f6ef011bf8c785",
            "28e0997bbdc946ae94da542a76dbe7b4",
            "47d1a485d27f4c709d9e9dd01611ac23",
            "b0f1961b941c4f01b78bad2a5127d5df",
            "55db825293504e5692ab87563419a3de"
          ]
        },
        "id": "ZaLC80DLz0jf",
        "outputId": "4bce4506-2506-48da-8391-4db129b57a7e"
      },
      "source": [
        "inception_model = torch.hub.load('pytorch/vision:v0.9.0', \"inception_v3\", pretrained=True)\n",
        "inception_aux_in_ftrs = inception_model.AuxLogits.fc.in_features\n",
        "inception_model.AuxLogits.fc = nn.Linear(inception_aux_in_ftrs, num_classes)\n",
        "inception_in_ftrs = inception_model.fc.in_features\n",
        "inception_model.fc = nn.Linear(inception_in_ftrs, num_classes)\n",
        "resnet_model = torch.hub.load('pytorch/vision:v0.9.0', \"resnet50\", pretrained=True)\n",
        "resnet_in_ftrs = resnet_model.fc.in_features\n",
        "resnet_model.fc = nn.Linear(resnet_in_ftrs, num_classes)"
      ],
      "execution_count": null,
      "outputs": [
        {
          "output_type": "stream",
          "text": [
            "Downloading: \"https://github.com/pytorch/vision/archive/v0.9.0.zip\" to /root/.cache/torch/hub/v0.9.0.zip\n",
            "Downloading: \"https://download.pytorch.org/models/inception_v3_google-1a9a5a14.pth\" to /root/.cache/torch/hub/checkpoints/inception_v3_google-1a9a5a14.pth\n"
          ],
          "name": "stderr"
        },
        {
          "output_type": "display_data",
          "data": {
            "application/vnd.jupyter.widget-view+json": {
              "model_id": "6314f2c47ffd49ba8eeed3b9ceda0843",
              "version_minor": 0,
              "version_major": 2
            },
            "text/plain": [
              "HBox(children=(FloatProgress(value=0.0, max=108857766.0), HTML(value='')))"
            ]
          },
          "metadata": {
            "tags": []
          }
        },
        {
          "output_type": "stream",
          "text": [
            "\n"
          ],
          "name": "stdout"
        },
        {
          "output_type": "stream",
          "text": [
            "Using cache found in /root/.cache/torch/hub/pytorch_vision_v0.9.0\n",
            "Downloading: \"https://download.pytorch.org/models/resnet50-19c8e357.pth\" to /root/.cache/torch/hub/checkpoints/resnet50-19c8e357.pth\n"
          ],
          "name": "stderr"
        },
        {
          "output_type": "display_data",
          "data": {
            "application/vnd.jupyter.widget-view+json": {
              "model_id": "d25fa64f5234453f981ff49db6178eae",
              "version_minor": 0,
              "version_major": 2
            },
            "text/plain": [
              "HBox(children=(FloatProgress(value=0.0, max=102502400.0), HTML(value='')))"
            ]
          },
          "metadata": {
            "tags": []
          }
        },
        {
          "output_type": "stream",
          "text": [
            "\n"
          ],
          "name": "stdout"
        }
      ]
    },
    {
      "cell_type": "code",
      "metadata": {
        "id": "mZ-4Ff2EEtYI"
      },
      "source": [
        "#models_folder = pathlib.Path(\"drive/MyDrive/augmented_10\")\n",
        "models_folder = pathlib.Path(\"models\")"
      ],
      "execution_count": null,
      "outputs": []
    },
    {
      "cell_type": "code",
      "metadata": {
        "colab": {
          "base_uri": "https://localhost:8080/"
        },
        "id": "yvmRA5EHxgxq",
        "outputId": "3689f667-a1ac-434c-b85c-24b27e5f15af"
      },
      "source": [
        "for item in models_folder.iterdir():\n",
        "  if item.name.endswith(\".pt\"):\n",
        "    if \"inception\" in item.name:\n",
        "      model = inception_model\n",
        "    elif \"resnet50\" in item.name:\n",
        "      model = resnet_model\n",
        "    else:\n",
        "      print(\"ARCHITECTURE NOT FOUND\")\n",
        "      break\n",
        "    print(item)\n",
        "    model.load_state_dict(torch.load(item))\n",
        "    accuracies = predict(dataloaders_dict, model)\n",
        "    for i, key in enumerate(image_datasets.keys()):\n",
        "      print(key + \" accuracy = \", accuracies[i].item())"
      ],
      "execution_count": null,
      "outputs": [
        {
          "output_type": "stream",
          "text": [
            "models/fine-tuned-inception-adv-training-with-stability.pt\n",
            "imagenet-a accuracy =  0.04091985151171684\n",
            "imagenet-o accuracy =  0.5161290168762207\n",
            "imagenet-c-zoom_blur-2 accuracy =  0.3158999979496002\n",
            "imagenet-c-pixelate-2 accuracy =  0.4136999845504761\n",
            "imagenet-c-snow-2 accuracy =  0.39739999175071716\n",
            "imagenet-c-impulse_noise-2 accuracy =  0.32580000162124634\n",
            "imagenet-c-motion_blur-2 accuracy =  0.34139999747276306\n",
            "imagenet-c-fog-2 accuracy =  0.5142999887466431\n",
            "imagenet-c-jpeg_compression-2 accuracy =  0.39229997992515564\n",
            "imagenet-c-shot_noise-2 accuracy =  0.25689998269081116\n",
            "imagenet-c-contrast-2 accuracy =  0.4177999794483185\n",
            "imagenet-c-gaussian_noise-2 accuracy =  0.24369999766349792\n",
            "imagenet-c-defocus_blur-2 accuracy =  0.33969998359680176\n",
            "imagenet-c-elastic_transform-2 accuracy =  0.3804999887943268\n",
            "imagenet-c-glass_blur-2 accuracy =  0.24560000002384186\n",
            "imagenet-c-frost-2 accuracy =  0.5004000067710876\n",
            "imagenet-c-brightness-2 accuracy =  0.612500011920929\n"
          ],
          "name": "stdout"
        }
      ]
    },
    {
      "cell_type": "code",
      "metadata": {
        "id": "Ls4Qn8ilNqAM"
      },
      "source": [
        "torch.cuda.empty_cache()"
      ],
      "execution_count": null,
      "outputs": []
    },
    {
      "cell_type": "code",
      "metadata": {
        "id": "k6xQipCPzruB"
      },
      "source": [
        ""
      ],
      "execution_count": null,
      "outputs": []
    }
  ]
}